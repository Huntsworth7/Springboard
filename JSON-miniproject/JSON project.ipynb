{
 "cells": [
  {
   "cell_type": "markdown",
   "metadata": {},
   "source": [
    "JSON PROJECT"
   ]
  },
  {
   "cell_type": "code",
   "execution_count": 71,
   "metadata": {},
   "outputs": [],
   "source": [
    "#import pandas, json, json normalize, numpy\n",
    "import pandas as pd\n",
    "import json \n",
    "from pandas.io.json import json_normalize\n",
    "import numpy as np #won't use this until the last problem"
   ]
  },
  {
   "cell_type": "code",
   "execution_count": 52,
   "metadata": {},
   "outputs": [],
   "source": [
    "#read in the world bank data\n",
    "data = 'data/world_bank_projects.json'\n",
    "df = pd.read_json(data) #creates a dataframe from a JSON"
   ]
  },
  {
   "cell_type": "code",
   "execution_count": 53,
   "metadata": {},
   "outputs": [
    {
     "name": "stdout",
     "output_type": "stream",
     "text": [
      "Index(['_id', 'approvalfy', 'board_approval_month', 'boardapprovaldate',\n",
      "       'borrower', 'closingdate', 'country_namecode', 'countrycode',\n",
      "       'countryname', 'countryshortname', 'docty', 'envassesmentcategorycode',\n",
      "       'grantamt', 'ibrdcommamt', 'id', 'idacommamt', 'impagency',\n",
      "       'lendinginstr', 'lendinginstrtype', 'lendprojectcost',\n",
      "       'majorsector_percent', 'mjsector_namecode', 'mjtheme',\n",
      "       'mjtheme_namecode', 'mjthemecode', 'prodline', 'prodlinetext',\n",
      "       'productlinetype', 'project_abstract', 'project_name', 'projectdocs',\n",
      "       'projectfinancialtype', 'projectstatusdisplay', 'regionname', 'sector',\n",
      "       'sector1', 'sector2', 'sector3', 'sector4', 'sector_namecode',\n",
      "       'sectorcode', 'source', 'status', 'supplementprojectflg', 'theme1',\n",
      "       'theme_namecode', 'themecode', 'totalamt', 'totalcommamt', 'url'],\n",
      "      dtype='object')\n",
      "(500, 50)\n"
     ]
    }
   ],
   "source": [
    "#get some basic info about our data\n",
    "print(df.columns)\n",
    "print(df.shape)"
   ]
  },
  {
   "cell_type": "code",
   "execution_count": 49,
   "metadata": {},
   "outputs": [
    {
     "data": {
      "text/plain": [
       "People's Republic of China         19\n",
       "Republic of Indonesia              19\n",
       "Socialist Republic of Vietnam      17\n",
       "Republic of India                  16\n",
       "Republic of Yemen                  13\n",
       "People's Republic of Bangladesh    12\n",
       "Kingdom of Morocco                 12\n",
       "Nepal                              12\n",
       "Republic of Mozambique             11\n",
       "Africa                             11\n",
       "Islamic Republic of Pakistan        9\n",
       "Name: countryname, dtype: int64"
      ]
     },
     "execution_count": 49,
     "metadata": {},
     "output_type": "execute_result"
    }
   ],
   "source": [
    "#Problem 1\n",
    "#Top 10 countries with the most projects\n",
    "#I show 11 because Africa is a continent. \n",
    "df['countryname'].value_counts().head(11)"
   ]
  },
  {
   "cell_type": "code",
   "execution_count": 54,
   "metadata": {},
   "outputs": [
    {
     "data": {
      "text/plain": [
       "[{'code': '11', 'name': 'Environment and natural resources management'}, {'code': '11', 'name': 'Environment and natural resources management'}]                                                                                12\n",
       "[{'code': '8', 'name': 'Human development'}, {'code': '11', 'name': ''}]                                                                                                                                                        11\n",
       "[{'code': '8', 'name': 'Human development'}, {'code': '8', 'name': 'Human development'}]                                                                                                                                         8\n",
       "[{'code': '4', 'name': 'Financial and private sector development'}, {'code': '4', 'name': 'Financial and private sector development'}]                                                                                           6\n",
       "[{'code': '2', 'name': 'Public sector governance'}, {'code': '2', 'name': 'Public sector governance'}, {'code': '2', 'name': 'Public sector governance'}]                                                                        6\n",
       "[{'code': '8', 'name': 'Human development'}, {'code': '7', 'name': 'Social dev/gender/inclusion'}]                                                                                                                               5\n",
       "[{'code': '8', 'name': 'Human development'}, {'code': '8', 'name': 'Human development'}, {'code': '8', 'name': 'Human development'}, {'code': '8', 'name': 'Human development'}, {'code': '8', 'name': 'Human development'}]     5\n",
       "[{'code': '11', 'name': 'Environment and natural resources management'}, {'code': '11', 'name': ''}]                                                                                                                             5\n",
       "[{'code': '11', 'name': 'Environment and natural resources management'}, {'code': '4', 'name': ''}]                                                                                                                              5\n",
       "[{'code': '4', 'name': 'Financial and private sector development'}, {'code': '5', 'name': 'Trade and integration'}]                                                                                                              5\n",
       "Name: mjtheme_namecode, dtype: int64"
      ]
     },
     "execution_count": 54,
     "metadata": {},
     "output_type": "execute_result"
    }
   ],
   "source": [
    "#Problem 2\n",
    "df['mjtheme_namecode'].value_counts().head(10)\n"
   ]
  },
  {
   "cell_type": "code",
   "execution_count": 55,
   "metadata": {},
   "outputs": [],
   "source": [
    "#Problem 2 looks awful. Let's try another route.\n",
    "df2 = json.load((open('data/world_bank_projects.json'))) #load our data again so we can normalize it\n",
    "themes = json_normalize(df2, 'mjtheme_namecode') #creates a table from JSON data for the column we need"
   ]
  },
  {
   "cell_type": "code",
   "execution_count": 61,
   "metadata": {},
   "outputs": [
    {
     "data": {
      "text/plain": [
       "Environment and natural resources management    223\n",
       "Rural development                               202\n",
       "Human development                               197\n",
       "Public sector governance                        184\n",
       "Social protection and risk management           158\n",
       "Financial and private sector development        130\n",
       "                                                122\n",
       "Social dev/gender/inclusion                     119\n",
       "Trade and integration                            72\n",
       "Urban development                                47\n",
       "Economic management                              33\n",
       "Name: name, dtype: int64"
      ]
     },
     "execution_count": 61,
     "metadata": {},
     "output_type": "execute_result"
    }
   ],
   "source": [
    "themes['name'].value_counts().head(11) #have to use 11 rather than 10 because we have a LOT of missing values"
   ]
  },
  {
   "cell_type": "code",
   "execution_count": 69,
   "metadata": {},
   "outputs": [
    {
     "name": "stdout",
     "output_type": "stream",
     "text": [
      "     code                 name\n",
      "212     1                     \n",
      "363     1                     \n",
      "1024    1                     \n",
      "1114    1                     \n",
      "1437    1                     \n",
      "2       1  Economic management\n",
      "88      1  Economic management\n",
      "175     1  Economic management\n",
      "204     1  Economic management\n",
      "205     1  Economic management\n",
      "220     1  Economic management\n",
      "222     1  Economic management\n",
      "223     1  Economic management\n",
      "249     1  Economic management\n",
      "357     1  Economic management\n",
      "453     1  Economic management\n",
      "454     1  Economic management\n",
      "458     1  Economic management\n",
      "497     1  Economic management\n",
      "647     1  Economic management\n",
      "648     1  Economic management\n",
      "784     1  Economic management\n",
      "803     1  Economic management\n",
      "841     1  Economic management\n",
      "900     1  Economic management\n",
      "1010    1  Economic management\n",
      "1045    1  Economic management\n",
      "1056    1  Economic management\n",
      "1057    1  Economic management\n",
      "1078    1  Economic management\n",
      "...   ...                  ...\n",
      "597     9    Urban development\n",
      "598     9    Urban development\n",
      "650     9    Urban development\n",
      "669     9    Urban development\n",
      "732     9    Urban development\n",
      "737     9    Urban development\n",
      "738     9    Urban development\n",
      "739     9    Urban development\n",
      "742     9    Urban development\n",
      "822     9    Urban development\n",
      "917     9    Urban development\n",
      "930     9    Urban development\n",
      "940     9    Urban development\n",
      "962     9    Urban development\n",
      "1095    9    Urban development\n",
      "1102    9    Urban development\n",
      "1103    9    Urban development\n",
      "1104    9    Urban development\n",
      "1166    9    Urban development\n",
      "1290    9    Urban development\n",
      "1303    9    Urban development\n",
      "1318    9    Urban development\n",
      "1342    9    Urban development\n",
      "1347    9    Urban development\n",
      "1425    9    Urban development\n",
      "1426    9    Urban development\n",
      "1428    9    Urban development\n",
      "1470    9    Urban development\n",
      "1473    9    Urban development\n",
      "1495    9    Urban development\n",
      "\n",
      "[1499 rows x 2 columns]\n"
     ]
    }
   ],
   "source": [
    "#Problem 3\n",
    "problem3 = themes.sort_values(['code','name']) #codes match with names so let's sort our values by codes so we can backfill\n",
    "print(problem3)"
   ]
  },
  {
   "cell_type": "code",
   "execution_count": 81,
   "metadata": {},
   "outputs": [
    {
     "name": "stdout",
     "output_type": "stream",
     "text": [
      "     code                 name\n",
      "212     1  Economic management\n",
      "363     1  Economic management\n",
      "1024    1  Economic management\n",
      "1114    1  Economic management\n",
      "1437    1  Economic management\n"
     ]
    }
   ],
   "source": [
    "#Looks like our code worked. I only know how to backfill NaNs so we have to change our blank entries\n",
    "problem3.name[problem3.name == ''] = np.nan #where name column is blank, change to NaN\n",
    "print(problem3.head())#make sure it worked\n"
   ]
  },
  {
   "cell_type": "code",
   "execution_count": 80,
   "metadata": {},
   "outputs": [],
   "source": [
    "problem3 = problem3.fillna(method='bfill') #backfilling with the correct names"
   ]
  },
  {
   "cell_type": "code",
   "execution_count": 84,
   "metadata": {},
   "outputs": [
    {
     "data": {
      "text/plain": [
       "Environment and natural resources management    250\n",
       "Rural development                               216\n",
       "Human development                               210\n",
       "Public sector governance                        199\n",
       "Social protection and risk management           168\n",
       "Financial and private sector development        146\n",
       "Social dev/gender/inclusion                     130\n",
       "Trade and integration                            77\n",
       "Urban development                                50\n",
       "Economic management                              38\n",
       "Rule of law                                      15\n",
       "Name: name, dtype: int64"
      ]
     },
     "execution_count": 84,
     "metadata": {},
     "output_type": "execute_result"
    }
   ],
   "source": [
    "problem3['name'].value_counts() #check for blanks"
   ]
  },
  {
   "cell_type": "code",
   "execution_count": null,
   "metadata": {},
   "outputs": [],
   "source": []
  }
 ],
 "metadata": {
  "kernelspec": {
   "display_name": "Python 3",
   "language": "python",
   "name": "python3"
  },
  "language_info": {
   "codemirror_mode": {
    "name": "ipython",
    "version": 3
   },
   "file_extension": ".py",
   "mimetype": "text/x-python",
   "name": "python",
   "nbconvert_exporter": "python",
   "pygments_lexer": "ipython3",
   "version": "3.7.3"
  }
 },
 "nbformat": 4,
 "nbformat_minor": 2
}
